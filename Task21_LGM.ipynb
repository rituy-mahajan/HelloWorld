{
  "nbformat": 4,
  "nbformat_minor": 0,
  "metadata": {
    "colab": {
      "name": "Task21_LGM.ipynb",
      "provenance": [],
      "collapsed_sections": [],
      "authorship_tag": "ABX9TyMRIHuBL7cySOnwR61AYSyV",
      "include_colab_link": true
    },
    "kernelspec": {
      "name": "python3",
      "display_name": "Python 3"
    },
    "language_info": {
      "name": "python"
    }
  },
  "cells": [
    {
      "cell_type": "markdown",
      "metadata": {
        "id": "view-in-github",
        "colab_type": "text"
      },
      "source": [
        "<a href=\"https://colab.research.google.com/github/rituy-mahajan/HelloWorld/blob/main/Task21_LGM.ipynb\" target=\"_parent\"><img src=\"https://colab.research.google.com/assets/colab-badge.svg\" alt=\"Open In Colab\"/></a>"
      ]
    },
    {
      "cell_type": "code",
      "execution_count": null,
      "metadata": {
        "id": "LERj_fiJ3jMz"
      },
      "outputs": [],
      "source": [
        "import pandas as pd\n",
        "import numpy as np\n",
        "import matplotlib.pyplot as plt\n",
        "import seaborn as sns"
      ]
    },
    {
      "cell_type": "code",
      "source": [
        "df = pd.read_csv(\"Iris.csv\")"
      ],
      "metadata": {
        "id": "uXLZ4mC43yha"
      },
      "execution_count": null,
      "outputs": []
    },
    {
      "cell_type": "code",
      "source": [
        "df.head()\n"
      ],
      "metadata": {
        "id": "EtTUTb7t31Ov"
      },
      "execution_count": null,
      "outputs": []
    },
    {
      "cell_type": "code",
      "source": [
        "df.shape"
      ],
      "metadata": {
        "id": "v0557CM834YG"
      },
      "execution_count": null,
      "outputs": []
    },
    {
      "cell_type": "code",
      "source": [
        "df.info()"
      ],
      "metadata": {
        "id": "zJi_zxov38SG"
      },
      "execution_count": null,
      "outputs": []
    },
    {
      "cell_type": "code",
      "source": [
        "df.isna().sum()"
      ],
      "metadata": {
        "id": "5SIB_Sg83-_1"
      },
      "execution_count": null,
      "outputs": []
    },
    {
      "cell_type": "code",
      "source": [
        "#dropping the ID column as it is unique\n",
        "df.drop(\"Id\", axis=1 , inplace=True)"
      ],
      "metadata": {
        "id": "QRp1j6a_4BP-"
      },
      "execution_count": null,
      "outputs": []
    },
    {
      "cell_type": "code",
      "source": [
        "df.describe()"
      ],
      "metadata": {
        "id": "QZEtEVgF4EIO"
      },
      "execution_count": null,
      "outputs": []
    },
    {
      "cell_type": "code",
      "source": [
        "#Plotting distribution of data\n",
        "plt.figure(figsize=(10,5))\n",
        "sns.scatterplot(data=df, s=100, alpha=0.7)\n",
        "plt.grid()\n",
        "plt.show()"
      ],
      "metadata": {
        "id": "DUIsNcIi4Ezo"
      },
      "execution_count": null,
      "outputs": []
    },
    {
      "cell_type": "code",
      "source": [
        "#Extracting independent & dependent variables from dataset\n",
        "x = df.iloc[:,:-1]\n",
        "y = df.iloc[:,-1]"
      ],
      "metadata": {
        "id": "rnh9jwEW4Hes"
      },
      "execution_count": null,
      "outputs": []
    },
    {
      "cell_type": "code",
      "source": [
        "#train test splitting\n",
        "from sklearn.model_selection import train_test_split\n",
        "x_train,x_test,y_train,y_test=train_test_split(x,y,test_size=0.30,random_state=0) "
      ],
      "metadata": {
        "id": "kiz7uT5U4J8R"
      },
      "execution_count": null,
      "outputs": []
    },
    {
      "cell_type": "markdown",
      "source": [
        "Decision Tree Algorithm"
      ],
      "metadata": {
        "id": "WMMmS7TU4L-_"
      }
    },
    {
      "cell_type": "code",
      "source": [
        "from sklearn.tree import DecisionTreeClassifier\n",
        "classifier = DecisionTreeClassifier( criterion=\"entropy\" , max_depth = 4 )\n",
        "classifier.fit(x_train,y_train)"
      ],
      "metadata": {
        "id": "FxV5K_LG4OAX"
      },
      "execution_count": null,
      "outputs": []
    },
    {
      "cell_type": "code",
      "source": [
        "y_pred = classifier.predict(x_test)\n",
        "y_pred"
      ],
      "metadata": {
        "id": "yG_CXUvT4QGe"
      },
      "execution_count": null,
      "outputs": []
    },
    {
      "cell_type": "code",
      "source": [
        "from sklearn import metrics\n",
        "metrics.accuracy_score(y_test , y_pred)"
      ],
      "metadata": {
        "id": "vhg02GHj4UYA"
      },
      "execution_count": null,
      "outputs": []
    },
    {
      "cell_type": "code",
      "source": [
        "from sklearn.metrics import confusion_matrix\n",
        "matrix=confusion_matrix(y_test,y_pred)\n",
        "matrix"
      ],
      "metadata": {
        "id": "3Xfsby-M4W-N"
      },
      "execution_count": null,
      "outputs": []
    },
    {
      "cell_type": "markdown",
      "source": [
        "Text representation of the Decision Tree"
      ],
      "metadata": {
        "id": "6ZJ5VpzQ4cqc"
      }
    },
    {
      "cell_type": "code",
      "source": [
        "# !conda install -c conda-forge pydotplus -y\n",
        "# !conda install -c conda-forge python-graphviz -y"
      ],
      "metadata": {
        "id": "kayrON6M4Xnf"
      },
      "execution_count": null,
      "outputs": []
    },
    {
      "cell_type": "code",
      "source": [
        "from  io import StringIO\n",
        "import pydotplus\n",
        "import matplotlib.image as mpimg\n",
        "from sklearn import tree\n",
        "from sklearn.tree import export_graphviz\n"
      ],
      "metadata": {
        "id": "ig3q-3-b4aOV"
      },
      "execution_count": null,
      "outputs": []
    },
    {
      "cell_type": "code",
      "source": [
        "text_rep = tree.export_text(classifier)\n",
        "print(text_rep)"
      ],
      "metadata": {
        "id": "6ZrNZK_a4Hm1"
      },
      "execution_count": null,
      "outputs": []
    },
    {
      "cell_type": "code",
      "source": [
        "dot_data =StringIO()\n",
        "filename = \"iris_classification.png\"\n",
        "features=df.columns.tolist()[:-1] #column names\n",
        "target=df['Species'].unique() #target column\n",
        "fig = plt.figure(figsize=(15,15))\n",
        "dt = tree.export_graphviz(classifier, feature_names=features, out_file=dot_data, \n",
        "                          class_names=target, filled=True,rotate=False,rounded = True,\n",
        "                         special_characters=True)\n",
        "graph = pydotplus.graph_from_dot_data(dot_data.getvalue())  \n",
        "graph.write_png(filename)\n",
        "img = mpimg.imread(filename)\n",
        "plt.figure(figsize=(100, 200),dpi=100)\n",
        "plt.imshow(img,interpolation='nearest')\n"
      ],
      "metadata": {
        "id": "35rIh-vD4j_e"
      },
      "execution_count": null,
      "outputs": []
    }
  ]
}